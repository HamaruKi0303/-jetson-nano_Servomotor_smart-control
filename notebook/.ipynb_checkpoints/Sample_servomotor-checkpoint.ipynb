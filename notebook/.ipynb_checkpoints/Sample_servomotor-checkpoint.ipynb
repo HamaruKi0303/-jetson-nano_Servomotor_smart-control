{
 "cells": [
  {
   "cell_type": "code",
   "execution_count": 14,
   "metadata": {},
   "outputs": [],
   "source": [
    "!chmod 777 -R /home/jetson-nano-servomotor"
   ]
  },
  {
   "cell_type": "code",
   "execution_count": 5,
   "metadata": {},
   "outputs": [
    {
     "name": "stdout",
     "output_type": "stream",
     "text": [
      "/home/jetson-nano-servomotor\n"
     ]
    }
   ],
   "source": [
    "%cd /home/jetson-nano-servomotor"
   ]
  },
  {
   "cell_type": "code",
   "execution_count": 6,
   "metadata": {},
   "outputs": [
    {
     "name": "stdout",
     "output_type": "stream",
     "text": [
      "/home/jetson-nano-servomotor\n"
     ]
    }
   ],
   "source": [
    "!pwd"
   ]
  },
  {
   "cell_type": "code",
   "execution_count": 8,
   "metadata": {},
   "outputs": [
    {
     "name": "stdout",
     "output_type": "stream",
     "text": [
      "autofs\t\t\tmtd0ro\t\t    ram10\t       tty17  ttyGS0\n",
      "bsg\t\t\tmtdblock0\t    ram11\t       tty18  ttyS0\n",
      "btrfs-control\t\tnet\t\t    ram12\t       tty19  ttyS1\n",
      "bus\t\t\tnetwork_latency     ram13\t       tty2   ttyS2\n",
      "console\t\t\tnetwork_throughput  ram14\t       tty20  ttyS3\n",
      "constraint_cpu_freq\tnull\t\t    ram15\t       tty21  ttyTHS1\n",
      "constraint_gpu_freq\tnvhdcp0\t\t    ram2\t       tty22  ttyTHS2\n",
      "constraint_online_cpus\tnvhost-as-gpu\t    ram3\t       tty23  ttyp0\n",
      "cpu_dma_latency\t\tnvhost-ctrl\t    ram4\t       tty24  ttyp1\n",
      "cpu_freq_max\t\tnvhost-ctrl-gpu     ram5\t       tty25  ttyp2\n",
      "cpu_freq_min\t\tnvhost-ctrl-isp     ram6\t       tty26  ttyp3\n",
      "cuse\t\t\tnvhost-ctrl-isp.1   ram7\t       tty27  ttyp4\n",
      "emc_freq_min\t\tnvhost-ctrl-nvdec   ram8\t       tty28  ttyp5\n",
      "fb0\t\t\tnvhost-ctrl-vi\t    ram9\t       tty29  ttyp6\n",
      "fd\t\t\tnvhost-ctxsw-gpu    random\t       tty3   ttyp7\n",
      "full\t\t\tnvhost-dbg-gpu\t    rfkill\t       tty30  ttyp8\n",
      "fuse\t\t\tnvhost-gpu\t    rtc0\t       tty31  ttyp9\n",
      "gpiochip0\t\tnvhost-isp\t    rtc1\t       tty32  ttypa\n",
      "gpiochip1\t\tnvhost-isp.1\t    sda\t\t       tty33  ttypb\n",
      "gpu_freq_max\t\tnvhost-msenc\t    sda1\t       tty34  ttypc\n",
      "gpu_freq_min\t\tnvhost-nvdec\t    sda10\t       tty35  ttypd\n",
      "hidraw0\t\t\tnvhost-nvjpg\t    sda11\t       tty36  ttype\n",
      "hidraw1\t\t\tnvhost-prof-gpu     sda12\t       tty37  ttypf\n",
      "hidraw2\t\t\tnvhost-sched-gpu    sda13\t       tty38  uhid\n",
      "i2c-0\t\t\tnvhost-tsec\t    sda14\t       tty39  uinput\n",
      "i2c-1\t\t\tnvhost-tsecb\t    sda2\t       tty4   urandom\n",
      "i2c-2\t\t\tnvhost-tsg-gpu\t    sda3\t       tty40  vcs\n",
      "i2c-3\t\t\tnvhost-vi\t    sda4\t       tty41  vcs1\n",
      "i2c-4\t\t\tnvhost-vic\t    sda5\t       tty42  vcs2\n",
      "i2c-5\t\t\tnvmap\t\t    sda6\t       tty43  vcs3\n",
      "i2c-6\t\t\tport\t\t    sda7\t       tty44  vcs4\n",
      "input\t\t\tppp\t\t    sda8\t       tty45  vcs5\n",
      "keychord\t\tpsaux\t\t    sda9\t       tty46  vcs6\n",
      "kmem\t\t\tptmx\t\t    sdb\t\t       tty47  vcs7\n",
      "kmsg\t\t\tpts\t\t    shm\t\t       tty48  vcsa\n",
      "loop-control\t\tptyp0\t\t    snd\t\t       tty49  vcsa1\n",
      "loop0\t\t\tptyp1\t\t    stderr\t       tty5   vcsa2\n",
      "loop1\t\t\tptyp2\t\t    stdin\t       tty50  vcsa3\n",
      "loop2\t\t\tptyp3\t\t    stdout\t       tty51  vcsa4\n",
      "loop3\t\t\tptyp4\t\t    tegra-crypto       tty52  vcsa5\n",
      "loop4\t\t\tptyp5\t\t    tegra_camera_ctrl  tty53  vcsa6\n",
      "loop5\t\t\tptyp6\t\t    tegra_cec\t       tty54  vcsa7\n",
      "loop6\t\t\tptyp7\t\t    tegra_dc_0\t       tty55  vfio\n",
      "loop7\t\t\tptyp8\t\t    tegra_dc_ctrl      tty56  vhci\n",
      "mapper\t\t\tptyp9\t\t    tegra_mipi_cal     tty57  video0\n",
      "max_cpu_power\t\tptypa\t\t    tty\t\t       tty58  watchdog\n",
      "max_gpu_power\t\tptypb\t\t    tty0\t       tty59  watchdog0\n",
      "max_online_cpus\t\tptypc\t\t    tty1\t       tty6   zero\n",
      "media0\t\t\tptypd\t\t    tty10\t       tty60  zram0\n",
      "media1\t\t\tptype\t\t    tty11\t       tty61  zram1\n",
      "mem\t\t\tptypf\t\t    tty12\t       tty62  zram2\n",
      "memory_bandwidth\tquadd\t\t    tty13\t       tty63  zram3\n",
      "min_online_cpus\t\tquadd_auth\t    tty14\t       tty7\n",
      "mqueue\t\t\tram0\t\t    tty15\t       tty8\n",
      "mtd0\t\t\tram1\t\t    tty16\t       tty9\n"
     ]
    }
   ],
   "source": [
    "!ls /dev"
   ]
  },
  {
   "cell_type": "code",
   "execution_count": 1,
   "metadata": {},
   "outputs": [
    {
     "name": "stdout",
     "output_type": "stream",
     "text": [
      "     0  1  2  3  4  5  6  7  8  9  a  b  c  d  e  f\n",
      "00:          -- -- -- -- -- -- -- -- -- -- -- -- -- \n",
      "10: -- -- -- -- -- -- -- -- -- -- -- -- -- -- -- -- \n",
      "20: -- -- -- -- -- -- -- -- -- -- -- -- -- -- -- -- \n",
      "30: -- -- -- -- -- -- -- -- -- -- -- -- -- -- -- -- \n",
      "40: 40 -- -- -- -- -- -- -- -- -- -- -- -- -- -- -- \n",
      "50: -- -- -- -- -- -- -- -- -- -- -- -- -- -- -- -- \n",
      "60: -- -- -- -- -- -- -- -- -- -- -- -- -- -- -- -- \n",
      "70: 70 -- -- -- -- -- -- --                         \n"
     ]
    }
   ],
   "source": [
    "!i2cdetect -y -r 1"
   ]
  },
  {
   "cell_type": "code",
   "execution_count": 13,
   "metadata": {},
   "outputs": [
    {
     "name": "stdout",
     "output_type": "stream",
     "text": [
      "Moving servo on channel 0, press Ctrl-C to quit...\n"
     ]
    },
    {
     "ename": "KeyboardInterrupt",
     "evalue": "",
     "output_type": "error",
     "traceback": [
      "\u001b[0;31m---------------------------------------------------------------------------\u001b[0m",
      "\u001b[0;31mKeyboardInterrupt\u001b[0m                         Traceback (most recent call last)",
      "\u001b[0;32m<ipython-input-13-f0652d7d4e5a>\u001b[0m in \u001b[0;36m<module>\u001b[0;34m\u001b[0m\n\u001b[1;32m     49\u001b[0m     \u001b[0mtime\u001b[0m\u001b[0;34m.\u001b[0m\u001b[0msleep\u001b[0m\u001b[0;34m(\u001b[0m\u001b[0;36m1\u001b[0m\u001b[0;34m)\u001b[0m\u001b[0;34m\u001b[0m\u001b[0;34m\u001b[0m\u001b[0m\n\u001b[1;32m     50\u001b[0m     \u001b[0mpwm\u001b[0m\u001b[0;34m.\u001b[0m\u001b[0mset_pwm\u001b[0m\u001b[0;34m(\u001b[0m\u001b[0mi\u001b[0m\u001b[0;34m,\u001b[0m \u001b[0;36m0\u001b[0m\u001b[0;34m,\u001b[0m \u001b[0mservo_max\u001b[0m\u001b[0;34m)\u001b[0m\u001b[0;34m\u001b[0m\u001b[0;34m\u001b[0m\u001b[0m\n\u001b[0;32m---> 51\u001b[0;31m     \u001b[0mtime\u001b[0m\u001b[0;34m.\u001b[0m\u001b[0msleep\u001b[0m\u001b[0;34m(\u001b[0m\u001b[0;36m1\u001b[0m\u001b[0;34m)\u001b[0m\u001b[0;34m\u001b[0m\u001b[0;34m\u001b[0m\u001b[0m\n\u001b[0m",
      "\u001b[0;31mKeyboardInterrupt\u001b[0m: "
     ]
    }
   ],
   "source": [
    "# Simple demo of of the PCA9685 PWM servo/LED controller library.\n",
    "# This will move channel 0 from min to max position repeatedly.\n",
    "# Author: Tony DiCola\n",
    "# License: Public Domain\n",
    "from __future__ import division\n",
    "import time\n",
    "import os\n",
    "import sys\n",
    "\n",
    "sys.path.append('./modules')\n",
    "\n",
    "# Import the PCA9685 module.\n",
    "import Adafruit_PCA9685\n",
    " \n",
    " \n",
    "# Uncomment to enable debug output.\n",
    "#import logging\n",
    "#logging.basicConfig(level=logging.DEBUG)\n",
    " \n",
    "# Initialise the PCA9685 using the default address (0x40).\n",
    "pwm = Adafruit_PCA9685.PCA9685()\n",
    " \n",
    "# Alternatively specify a different address and/or bus:\n",
    "#pwm = Adafruit_PCA9685.PCA9685(address=0x41, busnum=2)\n",
    " \n",
    "# Configure min and max servo pulse lengths\n",
    "servo_min = 150  # Min pulse length out of 4096\n",
    "servo_max = 600  # Max pulse length out of 4096\n",
    " \n",
    "# Helper function to make setting a servo pulse width simpler.\n",
    "def set_servo_pulse(channel, pulse):\n",
    "    pulse_length = 1000000    # 1,000,000 us per second\n",
    "    pulse_length //= 60       # 60 Hz\n",
    "    print('{0}us per period'.format(pulse_length))\n",
    "    pulse_length //= 4096     # 12 bits of resolution\n",
    "    print('{0}us per bit'.format(pulse_length))\n",
    "    pulse *= 1000\n",
    "    pulse //= pulse_length\n",
    "    pwm.set_pwm(channel, 0, pulse)\n",
    " \n",
    "# Set frequency to 60hz, good for servos.\n",
    "pwm.set_pwm_freq(60)\n",
    " \n",
    "print('Moving servo on channel 0, press Ctrl-C to quit...')\n",
    "while True:\n",
    "    # Move servo on channel O between extremes.\n",
    "    i = 0\n",
    "    pwm.set_pwm(i, 0, servo_min)\n",
    "    time.sleep(1)\n",
    "    pwm.set_pwm(i, 0, servo_max)\n",
    "    time.sleep(1)"
   ]
  },
  {
   "cell_type": "code",
   "execution_count": null,
   "metadata": {},
   "outputs": [],
   "source": []
  }
 ],
 "metadata": {
  "kernelspec": {
   "display_name": "Python 3",
   "language": "python",
   "name": "python3"
  },
  "language_info": {
   "codemirror_mode": {
    "name": "ipython",
    "version": 3
   },
   "file_extension": ".py",
   "mimetype": "text/x-python",
   "name": "python",
   "nbconvert_exporter": "python",
   "pygments_lexer": "ipython3",
   "version": "3.6.9"
  }
 },
 "nbformat": 4,
 "nbformat_minor": 4
}
